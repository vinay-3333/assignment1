{
  "nbformat": 4,
  "nbformat_minor": 0,
  "metadata": {
    "colab": {
      "provenance": []
    },
    "kernelspec": {
      "name": "python3",
      "display_name": "Python 3"
    },
    "language_info": {
      "name": "python"
    }
  },
  "cells": [
    {
      "cell_type": "markdown",
      "source": [
        "## Question 1:-  Find out all the types of error that we have encountered in our lecture and why? Also include the examples."
      ],
      "metadata": {
        "id": "MU8emZkJ96BE"
      }
    },
    {
      "cell_type": "markdown",
      "source": [
        "## 1.  first error as case sensetivity when we create an variable in python same name but different case(upper case and lower case), python treat as a different variable.\n"
      ],
      "metadata": {
        "id": "I7qiTpME-G_6"
      }
    },
    {
      "cell_type": "code",
      "source": [
        "TEN = 240\n",
        "ten = 12\n",
        "\n",
        "print(Ten)\n",
        "print(tEn)"
      ],
      "metadata": {
        "colab": {
          "base_uri": "https://localhost:8080/",
          "height": 218
        },
        "id": "E3x_Fqbt95hp",
        "outputId": "5d661f6c-0679-49d7-e72c-c1f0f3cd4c25"
      },
      "execution_count": 2,
      "outputs": [
        {
          "output_type": "error",
          "ename": "NameError",
          "evalue": "ignored",
          "traceback": [
            "\u001b[0;31m---------------------------------------------------------------------------\u001b[0m",
            "\u001b[0;31mNameError\u001b[0m                                 Traceback (most recent call last)",
            "\u001b[0;32m<ipython-input-2-8f90dc3a51df>\u001b[0m in \u001b[0;36m<cell line: 4>\u001b[0;34m()\u001b[0m\n\u001b[1;32m      2\u001b[0m \u001b[0mten\u001b[0m \u001b[0;34m=\u001b[0m \u001b[0;36m12\u001b[0m\u001b[0;34m\u001b[0m\u001b[0;34m\u001b[0m\u001b[0m\n\u001b[1;32m      3\u001b[0m \u001b[0;34m\u001b[0m\u001b[0m\n\u001b[0;32m----> 4\u001b[0;31m \u001b[0mprint\u001b[0m\u001b[0;34m(\u001b[0m\u001b[0mTen\u001b[0m\u001b[0;34m)\u001b[0m\u001b[0;34m\u001b[0m\u001b[0;34m\u001b[0m\u001b[0m\n\u001b[0m\u001b[1;32m      5\u001b[0m \u001b[0mprint\u001b[0m\u001b[0;34m(\u001b[0m\u001b[0mtEn\u001b[0m\u001b[0;34m)\u001b[0m\u001b[0;34m\u001b[0m\u001b[0;34m\u001b[0m\u001b[0m\n",
            "\u001b[0;31mNameError\u001b[0m: name 'Ten' is not defined"
          ]
        }
      ]
    },
    {
      "cell_type": "markdown",
      "source": [
        "## 2. Second error we found special symbol we can not use in variable name but we are only use underscore symbol(_) in variable \n"
      ],
      "metadata": {
        "id": "GK2UMsZY_g-u"
      }
    },
    {
      "cell_type": "code",
      "execution_count": 4,
      "metadata": {
        "colab": {
          "base_uri": "https://localhost:8080/",
          "height": 131
        },
        "id": "dqYRLhWG9L6Z",
        "outputId": "77225fc2-4b6d-4846-9dc9-6c54d6f11f2d"
      },
      "outputs": [
        {
          "output_type": "error",
          "ename": "SyntaxError",
          "evalue": "ignored",
          "traceback": [
            "\u001b[0;36m  File \u001b[0;32m\"<ipython-input-4-19bc5628a807>\"\u001b[0;36m, line \u001b[0;32m1\u001b[0m\n\u001b[0;31m    name@ = \"vinay\"\u001b[0m\n\u001b[0m          ^\u001b[0m\n\u001b[0;31mSyntaxError\u001b[0m\u001b[0;31m:\u001b[0m invalid syntax\n"
          ]
        }
      ],
      "source": [
        "name@ = \"vinay\"\n",
        "age& = 10\n",
        "\n",
        "print(name@)\n",
        "print(age&)"
      ]
    },
    {
      "cell_type": "markdown",
      "source": [
        "##3. third error is we can not start variable with number but we can use number middle and end of the variable name "
      ],
      "metadata": {
        "id": "dfyNC_rvAfXY"
      }
    },
    {
      "cell_type": "code",
      "source": [
        "10name = \"harshit\"\n",
        "name10 = \"vinay\""
      ],
      "metadata": {
        "colab": {
          "base_uri": "https://localhost:8080/",
          "height": 131
        },
        "id": "kTpKe96iAO_c",
        "outputId": "b85b7e68-3247-4e66-e87d-805f93b79103"
      },
      "execution_count": 5,
      "outputs": [
        {
          "output_type": "error",
          "ename": "SyntaxError",
          "evalue": "ignored",
          "traceback": [
            "\u001b[0;36m  File \u001b[0;32m\"<ipython-input-5-05fced88ac97>\"\u001b[0;36m, line \u001b[0;32m1\u001b[0m\n\u001b[0;31m    10name = \"harshit\"\u001b[0m\n\u001b[0m      ^\u001b[0m\n\u001b[0;31mSyntaxError\u001b[0m\u001b[0;31m:\u001b[0m invalid syntax\n"
          ]
        }
      ]
    },
    {
      "cell_type": "markdown",
      "source": [
        "##4.-> fourth error we found reserved key error , python provide a facility we use keyword as a variable but we can not use keyword as a variable .\n",
        "## ->if we can use keyword as a variable those keyword functionlity we can not use in python source code"
      ],
      "metadata": {
        "id": "BaBlAsf4BbO2"
      }
    },
    {
      "cell_type": "code",
      "source": [
        "print = 10\n",
        "\n",
        "print(\"hey my name is vinay \")"
      ],
      "metadata": {
        "colab": {
          "base_uri": "https://localhost:8080/",
          "height": 183
        },
        "id": "w-qMCDNsBDJZ",
        "outputId": "488886bb-f539-4afe-fe93-c1a38c527f3f"
      },
      "execution_count": 6,
      "outputs": [
        {
          "output_type": "error",
          "ename": "TypeError",
          "evalue": "ignored",
          "traceback": [
            "\u001b[0;31m---------------------------------------------------------------------------\u001b[0m",
            "\u001b[0;31mTypeError\u001b[0m                                 Traceback (most recent call last)",
            "\u001b[0;32m<ipython-input-6-7a0426cd0005>\u001b[0m in \u001b[0;36m<cell line: 2>\u001b[0;34m()\u001b[0m\n\u001b[1;32m      1\u001b[0m \u001b[0mprint\u001b[0m \u001b[0;34m=\u001b[0m \u001b[0;36m10\u001b[0m\u001b[0;34m\u001b[0m\u001b[0;34m\u001b[0m\u001b[0m\n\u001b[0;32m----> 2\u001b[0;31m \u001b[0mprint\u001b[0m\u001b[0;34m(\u001b[0m\u001b[0;34m\"hey my name is vinay \"\u001b[0m\u001b[0;34m)\u001b[0m\u001b[0;34m\u001b[0m\u001b[0;34m\u001b[0m\u001b[0m\n\u001b[0m",
            "\u001b[0;31mTypeError\u001b[0m: 'int' object is not callable"
          ]
        }
      ]
    },
    {
      "cell_type": "code",
      "source": [
        "del print"
      ],
      "metadata": {
        "id": "ME-SiHmDFsoK"
      },
      "execution_count": 12,
      "outputs": []
    },
    {
      "cell_type": "markdown",
      "source": [
        "## 5. we can not change empty string into other data type"
      ],
      "metadata": {
        "id": "iiVOP1t3C4Qa"
      }
    },
    {
      "cell_type": "code",
      "source": [
        "a =\"\"\n",
        "b = int(a)"
      ],
      "metadata": {
        "colab": {
          "base_uri": "https://localhost:8080/",
          "height": 183
        },
        "id": "-aVxJ4R8Cm-Y",
        "outputId": "ae38c1e3-3754-4237-a296-624dd8115946"
      },
      "execution_count": 7,
      "outputs": [
        {
          "output_type": "error",
          "ename": "ValueError",
          "evalue": "ignored",
          "traceback": [
            "\u001b[0;31m---------------------------------------------------------------------------\u001b[0m",
            "\u001b[0;31mValueError\u001b[0m                                Traceback (most recent call last)",
            "\u001b[0;32m<ipython-input-7-ca914d49bfda>\u001b[0m in \u001b[0;36m<cell line: 2>\u001b[0;34m()\u001b[0m\n\u001b[1;32m      1\u001b[0m \u001b[0ma\u001b[0m \u001b[0;34m=\u001b[0m\u001b[0;34m\"\"\u001b[0m\u001b[0;34m\u001b[0m\u001b[0;34m\u001b[0m\u001b[0m\n\u001b[0;32m----> 2\u001b[0;31m \u001b[0mb\u001b[0m \u001b[0;34m=\u001b[0m \u001b[0mint\u001b[0m\u001b[0;34m(\u001b[0m\u001b[0ma\u001b[0m\u001b[0;34m)\u001b[0m\u001b[0;34m\u001b[0m\u001b[0;34m\u001b[0m\u001b[0m\n\u001b[0m",
            "\u001b[0;31mValueError\u001b[0m: invalid literal for int() with base 10: ''"
          ]
        }
      ]
    },
    {
      "cell_type": "markdown",
      "source": [
        "##6. sixth error is when we take a user input those time all input python cosider as a string when we can concatenate those input with other data type we get an error "
      ],
      "metadata": {
        "id": "wn2SomPeDOG9"
      }
    },
    {
      "cell_type": "code",
      "source": [
        "a = \"hi i am vinay\"\n",
        "b = 10\n",
        "print(a+b)"
      ],
      "metadata": {
        "colab": {
          "base_uri": "https://localhost:8080/",
          "height": 200
        },
        "id": "MIxdwh5bDHGA",
        "outputId": "d3bb5257-f9d8-4bb6-b13f-10af083f3b91"
      },
      "execution_count": 8,
      "outputs": [
        {
          "output_type": "error",
          "ename": "TypeError",
          "evalue": "ignored",
          "traceback": [
            "\u001b[0;31m---------------------------------------------------------------------------\u001b[0m",
            "\u001b[0;31mTypeError\u001b[0m                                 Traceback (most recent call last)",
            "\u001b[0;32m<ipython-input-8-6d5ce4b18fde>\u001b[0m in \u001b[0;36m<cell line: 3>\u001b[0;34m()\u001b[0m\n\u001b[1;32m      1\u001b[0m \u001b[0ma\u001b[0m \u001b[0;34m=\u001b[0m \u001b[0;34m\"hi i am vinay\"\u001b[0m\u001b[0;34m\u001b[0m\u001b[0;34m\u001b[0m\u001b[0m\n\u001b[1;32m      2\u001b[0m \u001b[0mb\u001b[0m \u001b[0;34m=\u001b[0m \u001b[0;36m10\u001b[0m\u001b[0;34m\u001b[0m\u001b[0;34m\u001b[0m\u001b[0m\n\u001b[0;32m----> 3\u001b[0;31m \u001b[0mprint\u001b[0m\u001b[0;34m(\u001b[0m\u001b[0ma\u001b[0m\u001b[0;34m+\u001b[0m\u001b[0mb\u001b[0m\u001b[0;34m)\u001b[0m\u001b[0;34m\u001b[0m\u001b[0;34m\u001b[0m\u001b[0m\n\u001b[0m",
            "\u001b[0;31mTypeError\u001b[0m: can only concatenate str (not \"int\") to str"
          ]
        }
      ]
    },
    {
      "cell_type": "code",
      "source": [],
      "metadata": {
        "id": "uJAYkR6dESqr"
      },
      "execution_count": null,
      "outputs": []
    },
    {
      "cell_type": "markdown",
      "source": [
        "Question 2:- Take input A and B and print their sum, mul, div, square of the nos."
      ],
      "metadata": {
        "id": "53970TOWEX_S"
      }
    },
    {
      "cell_type": "code",
      "source": [
        "a = int(input(\"Enter the value of a: \"))\n",
        "b = int(input(\"enter the value of b: \"))\n",
        "\n",
        "print(f\"the value of a is: {a}\")\n",
        "print(f\"the value of b is: {b}\")\n",
        "\n",
        "sum = a+b\n",
        "subtract = a-b\n",
        "multiply = a*b\n",
        "divide = a/b\n",
        "squre = a**b\n",
        "\n",
        "print(f\" {a} + {b} sum is = {sum}\")\n",
        "print(f\" {a} - {b} subtract is = {subtract}\")\n",
        "print(f\" {a} * {b} multiply is = {multiply}\")\n",
        "print(f\" {a} / {b} divide is = {divide}\")\n",
        "print(f\" {a} ** {b} squre is = {squre}\")"
      ],
      "metadata": {
        "colab": {
          "base_uri": "https://localhost:8080/"
        },
        "id": "3Y8oEdW9DZrN",
        "outputId": "a7864264-102c-4ff7-8515-b3c7061d6fbc"
      },
      "execution_count": 16,
      "outputs": [
        {
          "output_type": "stream",
          "name": "stdout",
          "text": [
            "Enter the value of a: 10\n",
            "enter the value of b: 20\n",
            "the value of a is: 10\n",
            "the value of b is: 20\n",
            " 10 + 20 sum is = 30\n",
            " 10 - 20 subtract is = -10\n",
            " 10 * 20 multiply is = 200\n",
            " 10 / 20 divide is = 0.5\n",
            " 10 ** 20 squre is = 100000000000000000000\n"
          ]
        }
      ]
    },
    {
      "cell_type": "code",
      "source": [],
      "metadata": {
        "id": "heXO6dTQE3sL"
      },
      "execution_count": null,
      "outputs": []
    },
    {
      "cell_type": "markdown",
      "source": [
        "##Question 3.How many reserve keywords are there in python and why we should not use them as a variable name.\n",
        "\n",
        "answer:1. In python programming there are 33 keywords \n",
        "      2.python provide a facility we use keyword as a variable but we can    not use keyword as a variable .\n",
        "3.if we can use keyword as a variable those keyword functionlity we can not use in python source code\n",
        "\n"
      ],
      "metadata": {
        "id": "Iq9EAS13G_fQ"
      }
    },
    {
      "cell_type": "code",
      "source": [],
      "metadata": {
        "id": "tY6Q4omXG3r4"
      },
      "execution_count": null,
      "outputs": []
    },
    {
      "cell_type": "markdown",
      "source": [
        "##Question 4:- Create email ids with the user inputs. in the following format\n",
        "                lastname.firstname@gmail.com"
      ],
      "metadata": {
        "id": "eQFtISYoIPee"
      }
    },
    {
      "cell_type": "code",
      "source": [
        "first_name = input(\"Enter your first name:\")\n",
        "last_name = input(\"Enter your last name: \")\n",
        "\n",
        "print(f\"{last_name}.{first_name}@gmail.com\")"
      ],
      "metadata": {
        "colab": {
          "base_uri": "https://localhost:8080/"
        },
        "id": "hDyIpcxWIgjy",
        "outputId": "80375f1a-8a10-4138-d2f3-5a2e80e8c80f"
      },
      "execution_count": 17,
      "outputs": [
        {
          "output_type": "stream",
          "name": "stdout",
          "text": [
            "Enter your first name:vinay\n",
            "Enter your last name: agrawal\n",
            "agrawal.vinay@gmail.com\n"
          ]
        }
      ]
    },
    {
      "cell_type": "code",
      "source": [],
      "metadata": {
        "id": "AytUfaLuI_Hb"
      },
      "execution_count": 17,
      "outputs": []
    },
    {
      "cell_type": "markdown",
      "source": [
        "##Question 5:- Try to print the following lines -\n",
        "                *Hi I'm Sunny\n",
        "                *My address is 22\\3\n",
        "                *I earn 20$ daily.\n"
      ],
      "metadata": {
        "id": "-4YZ_EIUJCnY"
      }
    },
    {
      "cell_type": "code",
      "source": [
        "print_1 = \"Hi I'm Sunny\"\n",
        "print_2 = \"My address is 22\\3\"\n",
        "print_3 = \"Iearn 20$ daily.\"\n",
        "print(f\"the first print is: {print_1}\")\n",
        "print(f\"the second print is: {print_2}\")\n",
        "print(f\"the third print is: {print_3}\")"
      ],
      "metadata": {
        "colab": {
          "base_uri": "https://localhost:8080/"
        },
        "id": "1qQUKLqAJMz2",
        "outputId": "df8fdf00-6b38-453b-e046-93a073cde2d5"
      },
      "execution_count": 20,
      "outputs": [
        {
          "output_type": "stream",
          "name": "stdout",
          "text": [
            "the first print is: Hi I'm Sunny\n",
            "the second print is: My address is 22\u0003\n",
            "the third print is: Iearn 20$ daily.\n"
          ]
        }
      ]
    },
    {
      "cell_type": "code",
      "source": [],
      "metadata": {
        "id": "eROG-fpiJ3EQ"
      },
      "execution_count": null,
      "outputs": []
    }
  ]
}