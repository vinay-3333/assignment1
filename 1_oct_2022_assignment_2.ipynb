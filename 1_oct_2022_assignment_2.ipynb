{
  "nbformat": 4,
  "nbformat_minor": 0,
  "metadata": {
    "colab": {
      "provenance": []
    },
    "kernelspec": {
      "name": "python3",
      "display_name": "Python 3"
    },
    "language_info": {
      "name": "python"
    }
  },
  "cells": [
    {
      "cell_type": "markdown",
      "source": [
        "##Question 1:-What is indentation error? Why indentation is important? Give one simple example?\n",
        "\n",
        "##Answer:- if we can not provided a proper white space in our code so that the interpreter would able to understand that block of code and excecuted and executed all the lines then we get a indentation error"
      ],
      "metadata": {
        "id": "1bwKUMdw1qUL"
      }
    },
    {
      "cell_type": "code",
      "source": [
        "a = 10\n",
        "b = 20\n",
        "  print(f\"the sum of a and b is:{a+b}\")"
      ],
      "metadata": {
        "colab": {
          "base_uri": "https://localhost:8080/",
          "height": 130
        },
        "id": "10hOBqPM1kXW",
        "outputId": "7a8d2514-fc7c-412e-f62b-f0121947efa9"
      },
      "execution_count": 6,
      "outputs": [
        {
          "output_type": "error",
          "ename": "IndentationError",
          "evalue": "ignored",
          "traceback": [
            "\u001b[0;36m  File \u001b[0;32m\"<ipython-input-6-e15ec794b843>\"\u001b[0;36m, line \u001b[0;32m3\u001b[0m\n\u001b[0;31m    print(f\"the sum of a and b is:{a+b}\")\u001b[0m\n\u001b[0m    ^\u001b[0m\n\u001b[0;31mIndentationError\u001b[0m\u001b[0;31m:\u001b[0m unexpected indent\n"
          ]
        }
      ]
    },
    {
      "cell_type": "markdown",
      "source": [
        "##Question 2:-Correct the following code and write the comment where you made the correction?\n",
        "\n",
        "  class_started = bool(input(\"Hey friend, is class started?: [0-False/1-True]\"))\n",
        "  if class_started:\n",
        "     print(\"Since class started...\")\n",
        "     print(\"Lets concentrate\") \n",
        "  else:\n",
        "     print(\"Since class is not started...\")\n",
        "     print(\"let's revise\")    \n",
        "  HINT: Refer your data type conversion class"
      ],
      "metadata": {
        "id": "aGrU5bsF3xco"
      }
    },
    {
      "cell_type": "code",
      "source": [
        "\n",
        "  class_started = (input(\"Hey friend, is class started?: [0-False/1-True]\")) #we removed the boolean conversion because\n",
        "  # all our input 0,1,True,False etc. transfrom into true value and our source code gone wrong side \n",
        "  # and if we only take a input from user if user input is 0 or False that input covert into True or 1 \n",
        "  #we solve this problem using if condition if user input 0 or False we conveting into empty string \n",
        "  if class_started == \"0\" or class_started == \"False\":\n",
        "    class_started = \"\" \n",
        "  \n",
        "  if class_started:\n",
        "     print(\"Since class started...\")\n",
        "     print(\"Lets concentrate\") \n",
        "  else:\n",
        "     print(\"Since class is not started...\")\n",
        "     print(\"let's revise\")    \n"
      ],
      "metadata": {
        "colab": {
          "base_uri": "https://localhost:8080/"
        },
        "id": "5_h5b59G5mxu",
        "outputId": "7ce4d04e-a441-418b-f16a-3205228f4eb7"
      },
      "execution_count": 17,
      "outputs": [
        {
          "output_type": "stream",
          "name": "stdout",
          "text": [
            "Hey friend, is class started?: [0-False/1-True]0\n",
            "Since class is not started...\n",
            "let's revise\n"
          ]
        }
      ]
    },
    {
      "cell_type": "code",
      "execution_count": 11,
      "metadata": {
        "id": "a1fBhuWlwRsB"
      },
      "outputs": [],
      "source": [
        "\n"
      ]
    },
    {
      "cell_type": "markdown",
      "source": [
        "##Question 3:-Use if else condition to verify that dataype of input() method in python is always string.\n"
      ],
      "metadata": {
        "id": "dvwNKNVr81et"
      }
    },
    {
      "cell_type": "code",
      "source": [
        "name = input(\"hey,what is your name: \")\n",
        "if type(name)==str:\n",
        "  print(type(name))\n",
        "  print(\"i am string\")\n",
        "else:\n",
        "  print(\"i am not a string\")\n"
      ],
      "metadata": {
        "colab": {
          "base_uri": "https://localhost:8080/"
        },
        "id": "294t4taQ6noA",
        "outputId": "590e762c-a427-4671-b951-68477c83f282"
      },
      "execution_count": 22,
      "outputs": [
        {
          "output_type": "stream",
          "name": "stdout",
          "text": [
            "hey,what is your name: vinay\n",
            "<class 'str'>\n",
            "i am string\n"
          ]
        }
      ]
    },
    {
      "cell_type": "markdown",
      "source": [
        "##Question 4:-Take 3 variables and assign integer values to them. Find the largest variable, by only using the if and else conditions.\n",
        "\n"
      ],
      "metadata": {
        "id": "pvoDEDZ8-jB_"
      }
    },
    {
      "cell_type": "code",
      "source": [
        "num_1 = 12\n",
        "num_2 = 22\n",
        "num_3 = 44\n",
        "if num_1<num_2:\n",
        "  if num_1 > num_3:\n",
        "    print(\"num_2 is greater then num_1 and num_3\")\n",
        "  else:\n",
        "    print(\"num_3 is greater than num_1 and num_2\")\n",
        "else:\n",
        "  print(\"num_2 is greater than num_2 and num_3\")"
      ],
      "metadata": {
        "colab": {
          "base_uri": "https://localhost:8080/"
        },
        "id": "t29F5azk9TRv",
        "outputId": "2561cb8b-6946-425b-f933-772f8c3041da"
      },
      "execution_count": 24,
      "outputs": [
        {
          "output_type": "stream",
          "name": "stdout",
          "text": [
            "num_3 is greater than num_1 and num_2\n"
          ]
        }
      ]
    },
    {
      "cell_type": "markdown",
      "source": [
        "##Question 5:- What would be the solution?\n",
        "\n",
        "True\n",
        "\n",
        "False"
      ],
      "metadata": {
        "id": "4qCB1E2N_63u"
      }
    },
    {
      "cell_type": "code",
      "source": [
        "a = 10\n",
        "b = 20\n",
        "\n",
        "print(not(not(a==10) or not(b==10)))"
      ],
      "metadata": {
        "colab": {
          "base_uri": "https://localhost:8080/"
        },
        "id": "dIu4437V_Yj2",
        "outputId": "b87b3574-d0b7-4668-b893-f7c530008066"
      },
      "execution_count": 25,
      "outputs": [
        {
          "output_type": "stream",
          "name": "stdout",
          "text": [
            "False\n"
          ]
        }
      ]
    },
    {
      "cell_type": "markdown",
      "source": [
        "##Question 6:-\n",
        "Find the answer as well as find out the reason behind the result? \n",
        "\n",
        "case 1:\n",
        "\n",
        "    A = 5.0\n",
        "    B = 10/2\n",
        "    print(A is B)\n",
        "case 2:\n",
        "  \n",
        "    A = 5.0\n",
        "    B = int(10/2)\n",
        "    print(A is B)\n",
        "case 3:\n",
        "\n",
        "    A = 5.0\n",
        "    B = float(10/2)\n",
        "    print(A is B)"
      ],
      "metadata": {
        "id": "ATg4tzLaApZX"
      }
    },
    {
      "cell_type": "code",
      "source": [
        "#case 1:\n",
        "A = 5.0\n",
        "B = 10/2\n",
        "print(A is B)\n",
        "\n",
        "\"\"\"\n",
        "->A variable data type is float it cosist a number 5 with base of 10 and B variable data type is int and it consist arithematic opteration 10/2 it gives a interger value\n",
        "->python interpreter both variable allocate memory loaction in different block variable A is consist float value is 5.0\n",
        " and variable B is consist int value is 5 both are different data type\n",
        "\"\"\""
      ],
      "metadata": {
        "colab": {
          "base_uri": "https://localhost:8080/",
          "height": 70
        },
        "id": "6hr08niyAXKk",
        "outputId": "0028e528-096b-4a08-af98-ae6a695a382d"
      },
      "execution_count": 26,
      "outputs": [
        {
          "output_type": "stream",
          "name": "stdout",
          "text": [
            "False\n"
          ]
        },
        {
          "output_type": "execute_result",
          "data": {
            "text/plain": [
              "'\\n->A variable data type is float it cosist a number 5 with base of 10 and B variable data type is int and it consist arithematic opteration 10/2 it gives a interger value\\n->python interpreter both variable allocate memory loaction in different block variable A is consist float value is 5.0\\n and variable B is consist int value is 5 both are different data type\\n'"
            ],
            "application/vnd.google.colaboratory.intrinsic+json": {
              "type": "string"
            }
          },
          "metadata": {},
          "execution_count": 26
        }
      ]
    },
    {
      "cell_type": "code",
      "source": [
        "#case 2:\n",
        "\n",
        "A = 5.0\n",
        "B = int(10/2)\n",
        "print(A is B)\n",
        "\n",
        "\n",
        "\"\"\" A variable is consist a value 5.0 with base of 10 it is float data type and B consist type casting with arithematic operation 10/2 its data type is int\"\"\""
      ],
      "metadata": {
        "colab": {
          "base_uri": "https://localhost:8080/",
          "height": 53
        },
        "id": "XfC8rWnFElTS",
        "outputId": "b60fb7b6-e087-40fd-dccb-127800f6d244"
      },
      "execution_count": 28,
      "outputs": [
        {
          "output_type": "stream",
          "name": "stdout",
          "text": [
            "False\n"
          ]
        },
        {
          "output_type": "execute_result",
          "data": {
            "text/plain": [
              "' A variable is consist a value 5.0 with base of 10 it is float data type and B consist type casting with arithematic operation 10/2 its data type is int'"
            ],
            "application/vnd.google.colaboratory.intrinsic+json": {
              "type": "string"
            }
          },
          "metadata": {},
          "execution_count": 28
        }
      ]
    },
    {
      "cell_type": "code",
      "source": [
        "#case 3:\n",
        "\n",
        "A = 5.0\n",
        "B = float(10/2)\n",
        "print(A is B)\n",
        "\n",
        "\"\"\"\n",
        "\n",
        "the arithmatic expression is of base 2 and is converted to float type . Same as case 1 \n",
        "\n",
        "\n",
        "\"\"\"\n",
        "a = 5.0\n",
        "b = float(10/2)\n",
        "print(b)\n",
        "print(a==b)"
      ],
      "metadata": {
        "colab": {
          "base_uri": "https://localhost:8080/"
        },
        "id": "nX_M18NYFVPI",
        "outputId": "da5e2d2d-f52f-4a2f-fc20-204cd0ad5f38"
      },
      "execution_count": 32,
      "outputs": [
        {
          "output_type": "stream",
          "name": "stdout",
          "text": [
            "False\n",
            "5.0\n",
            "True\n"
          ]
        }
      ]
    },
    {
      "cell_type": "markdown",
      "source": [
        "Try to understand the following examples and answer the question based on it -\n",
        "Arithmatic Operators\n",
        "\n",
        "Operation\tMeaning\n",
        "+\taddition\n",
        "-\tsubtraction\n",
        "*\tmultiplication\n",
        "/\ttrue division\n",
        "//\tinteger division\n",
        "%\tthe modulo operator\n",
        "Here +, -, *, / are regular arithmatic operators. Lets look at the // and % operators"
      ],
      "metadata": {
        "id": "AnOK_0HsGhxp"
      }
    },
    {
      "cell_type": "code",
      "source": [
        "var_a = 5\n",
        "var_b =25\n",
        "interger_division = var_b//var_a\n",
        "print(f\"the value of var_a: {var_a} and value of var_b: {var_b} = {interger_division}\")"
      ],
      "metadata": {
        "colab": {
          "base_uri": "https://localhost:8080/"
        },
        "id": "QU9-81wdFiMo",
        "outputId": "30699055-427e-4ffe-bba5-5d5e937db2b1"
      },
      "execution_count": 40,
      "outputs": [
        {
          "output_type": "stream",
          "name": "stdout",
          "text": [
            "the value of var_a: 5 and value of var_b: 25 = 5\n"
          ]
        }
      ]
    },
    {
      "cell_type": "code",
      "source": [
        "var_a = 3\n",
        "var_b = 25\n",
        "inter_division = var_b//var_a\n",
        "print(f\"the value of var_a: {var_a} and value of var_b: {var_b} = {inter_division}\")"
      ],
      "metadata": {
        "colab": {
          "base_uri": "https://localhost:8080/"
        },
        "id": "rSsQK6hLGK_A",
        "outputId": "7d2f7d3b-e717-4be4-cfa8-68a08d105b0f"
      },
      "execution_count": 41,
      "outputs": [
        {
          "output_type": "stream",
          "name": "stdout",
          "text": [
            "the value of var_a: 3 and value of var_b: 25 = 8\n"
          ]
        }
      ]
    },
    {
      "cell_type": "code",
      "source": [
        "var_a =  5\n",
        "var_b = 25\n",
        "reminder = var_b%var_a\n",
        "print(f\"the value of var_a: {var_a} and value var_b: {var_b} = {reminder}\")"
      ],
      "metadata": {
        "colab": {
          "base_uri": "https://localhost:8080/"
        },
        "id": "8U8b1Yc3IgH9",
        "outputId": "91469a4d-092b-401b-dc09-3a2ff8b74ada"
      },
      "execution_count": 43,
      "outputs": [
        {
          "output_type": "stream",
          "name": "stdout",
          "text": [
            "the value of var_a: 5 and value var_b: 25 = 0\n"
          ]
        }
      ]
    },
    {
      "cell_type": "code",
      "source": [
        "var_a = 3\n",
        "var_b = 25\n",
        "reminder = var_b%var_a\n",
        "print(f\"the value of var_a is: {var_a} and value of var_b is: {var_b} = {reminder}\")"
      ],
      "metadata": {
        "colab": {
          "base_uri": "https://localhost:8080/"
        },
        "id": "dEW1O6tpI6JJ",
        "outputId": "e970ad1d-3904-4797-b328-a957f6bac3c7"
      },
      "execution_count": 44,
      "outputs": [
        {
          "output_type": "stream",
          "name": "stdout",
          "text": [
            "the value of var_a is: 3 and value of var_b is: 25 = 1\n"
          ]
        }
      ]
    },
    {
      "cell_type": "markdown",
      "source": [
        "##Question 7:-Write a program that asks the user to enter a number. You should print out a message to the user, either “That number is divisible by either 3 or 5”, or “That number is not divisible by either 3 or 5”. Be sure to consider the data type of the input you are taking in from the user. Use a single if/else block to solve this problem.\n"
      ],
      "metadata": {
        "id": "mrc3xr3hJmtq"
      }
    },
    {
      "cell_type": "code",
      "source": [
        "number = int(input(\"Enter the number we check the number is divisible by 3 or 5  or not\"))\n",
        "\n",
        "if number % 3 == 0 or number % 5 == 0:\n",
        "    print(f\"the number is: {number} divisiable by 3 or 5\")\n",
        "else:\n",
        "    print(f\"the number is: {number} is not divisiable by 3 or 5\")"
      ],
      "metadata": {
        "colab": {
          "base_uri": "https://localhost:8080/"
        },
        "id": "KwL497IFJjwk",
        "outputId": "858f08d6-2adf-4472-fc32-cec7b64cf643"
      },
      "execution_count": 46,
      "outputs": [
        {
          "output_type": "stream",
          "name": "stdout",
          "text": [
            "Enter the number we check the number is divisible by 3 or 5  or not1\n",
            "the number is: 1 is not divisiable by 3 or 5\n"
          ]
        }
      ]
    },
    {
      "cell_type": "code",
      "source": [],
      "metadata": {
        "id": "IM5yxOrEKv_4"
      },
      "execution_count": null,
      "outputs": []
    },
    {
      "cell_type": "markdown",
      "source": [
        "##Question 8:-Take user input for length and width. Then calculate the area of rectangle. Also print as per length and width whether its a square of rectangle."
      ],
      "metadata": {
        "id": "F1fHd8tlLOv4"
      }
    },
    {
      "cell_type": "code",
      "source": [
        "length = int(input(\"Enter the length \"))\n",
        "width = int(input(\"Enter the width \"))\n",
        "area = length * width\n",
        "\n",
        "if length==width:\n",
        "  print(f\"the length is:{length} metre and the width is: {width} metre ->it is a squre area {area} metre\")\n",
        "else:\n",
        "  print(f\"the length is:{length} metre and the width is: {width} metre -> the area is: {area} metre\")"
      ],
      "metadata": {
        "colab": {
          "base_uri": "https://localhost:8080/"
        },
        "id": "9Aa_BGTRLcWj",
        "outputId": "04dbf057-f758-429f-e786-65fbe74e3372"
      },
      "execution_count": 50,
      "outputs": [
        {
          "output_type": "stream",
          "name": "stdout",
          "text": [
            "Enter the length 25\n",
            "Enter the width 78\n",
            "the length is:25 metre and the width is: 78 metre -> the area is: 1950 metre\n"
          ]
        }
      ]
    },
    {
      "cell_type": "markdown",
      "source": [
        "##Question 9:-Take two variable radius_1 and radius_2 and calculate the area of circle_1 and circle_2. Also print which circle has large area. If area is equal then print area is equal."
      ],
      "metadata": {
        "id": "QiJiKqskM0Gz"
      }
    },
    {
      "cell_type": "code",
      "source": [
        "circle_radius_1 = int(input(\"Enter the radius of 1'st circle is: \"))\n",
        "circle_radius_2 = int(input(\"Enter the radius of 2'nd circle is: \"))\n",
        "\n",
        "circle_area_1 = (3.14*(circle_radius_1**2) )\n",
        "circle_area_2 = (3.14*(circle_radius_2**2))\n",
        "\n",
        "print(f\"the area of 1'st circle is: {circle_area_1} sq metre\")\n",
        "print(f\"the area of 2'st circle is: {circle_area_2} sq metre\")\n",
        "\n",
        "if circle_area_1 == circle_area_2:\n",
        "  print(\"both the circle are same area\")\n",
        "else:\n",
        "  if circle_area_1 > circle_area_2:\n",
        "    print(\"circle 1'st is greater than circle 2'nd \")\n",
        "  else:\n",
        "    print(\"circle 2'nd is greater than circle 1'st\")"
      ],
      "metadata": {
        "colab": {
          "base_uri": "https://localhost:8080/"
        },
        "id": "Uhc6XXjvLtML",
        "outputId": "0da29ddf-9b75-4e5e-c9e5-aa74cda40f62"
      },
      "execution_count": 54,
      "outputs": [
        {
          "output_type": "stream",
          "name": "stdout",
          "text": [
            "Enter the radius of 1'st circle is: 25\n",
            "Enter the radius of 2'nd circle is: 36\n",
            "the area of 1'st circle is: 1962.5 sq metre\n",
            "the area of 2'st circle is: 4069.44 sq metre\n",
            "circle 2'nd is greater than circle 1'st\n"
          ]
        }
      ]
    },
    {
      "cell_type": "markdown",
      "source": [
        "##Question 10:- Check whether a year is leap year or not. Use nested if...else to solve this problem. A leap year is exactly divisible by 4 except for century years (years ending with 00). The century year is a leap year only if it is perfectly divisible by 400."
      ],
      "metadata": {
        "id": "lIoANMfiQEaD"
      }
    },
    {
      "cell_type": "code",
      "source": [
        "leap_year = 2100\n",
        "\n",
        "if leap_year % 4 == 0 :\n",
        "  if leap_year % 400 ==0:\n",
        "    print(\"It is a leap year\")\n",
        "  else:\n",
        "    print(\"Not a leap year\")\n",
        "else:\n",
        "  print(\"It is not a leap year\")\n"
      ],
      "metadata": {
        "colab": {
          "base_uri": "https://localhost:8080/"
        },
        "id": "JMvWWT-NPUqy",
        "outputId": "98cb12a8-997d-49cf-a623-93240c90306f"
      },
      "execution_count": 55,
      "outputs": [
        {
          "output_type": "stream",
          "name": "stdout",
          "text": [
            "Not a leap year\n"
          ]
        }
      ]
    },
    {
      "cell_type": "code",
      "source": [],
      "metadata": {
        "id": "wnFsw1pnQvGk"
      },
      "execution_count": null,
      "outputs": []
    }
  ]
}