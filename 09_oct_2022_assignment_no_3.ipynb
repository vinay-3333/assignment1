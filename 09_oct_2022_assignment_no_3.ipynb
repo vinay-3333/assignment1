{
  "nbformat": 4,
  "nbformat_minor": 0,
  "metadata": {
    "colab": {
      "provenance": []
    },
    "kernelspec": {
      "name": "python3",
      "display_name": "Python 3"
    },
    "language_info": {
      "name": "python"
    }
  },
  "cells": [
    {
      "cell_type": "markdown",
      "source": [
        "##Question 1:-Find the largest number from the given list, use for loop.\n",
        "\n",
        "numbers = [12, 75, 150, 180, 145, 525, 50]"
      ],
      "metadata": {
        "id": "esaNltI9YhV8"
      }
    },
    {
      "cell_type": "code",
      "source": [
        "number = [12,75,150,180,145,525,50]\n",
        "\n",
        "largest_number = 0\n",
        "for i in number:\n",
        "  if largest_number < i:\n",
        "    largest_number = i\n",
        "print(f\"the largest number is: {largest_number}\")\n",
        "\n",
        "minimum_number = largest_number\n",
        "for i in number:\n",
        "  if minimum_number > i:\n",
        "    minimum_number = i\n",
        "print(f\"the minimum number is: {minimum_number}\")"
      ],
      "metadata": {
        "colab": {
          "base_uri": "https://localhost:8080/"
        },
        "id": "pNfn_IIiYgk2",
        "outputId": "868c0e61-8658-43b9-8b7a-db010776edd3"
      },
      "execution_count": 10,
      "outputs": [
        {
          "output_type": "stream",
          "name": "stdout",
          "text": [
            "the largest number is: 525\n",
            "the minimum number is: 12\n"
          ]
        }
      ]
    },
    {
      "cell_type": "markdown",
      "source": [
        "##Question 2:-Print all the even number between (1, 12)"
      ],
      "metadata": {
        "id": "8CP8kOrEbSq5"
      }
    },
    {
      "cell_type": "code",
      "execution_count": 14,
      "metadata": {
        "colab": {
          "base_uri": "https://localhost:8080/"
        },
        "id": "8RYsDjHcYYtf",
        "outputId": "91393673-9674-47ee-e336-5e52c191dfd6"
      },
      "outputs": [
        {
          "output_type": "stream",
          "name": "stdout",
          "text": [
            "even number\n",
            "2\n",
            "4\n",
            "6\n",
            "8\n",
            "10\n",
            "12\n",
            "odd number\n",
            "1\n",
            "3\n",
            "5\n",
            "7\n",
            "9\n",
            "11\n"
          ]
        }
      ],
      "source": [
        "print(\"even number\")\n",
        "for i in range(1,13):\n",
        "  if i%2 == 0:\n",
        "    print(i)\n",
        "\n",
        "print(\"odd number\")\n",
        "for i in range(1,13):\n",
        "  if i%2 !=0:\n",
        "    print(i)"
      ]
    },
    {
      "cell_type": "code",
      "source": [],
      "metadata": {
        "id": "ik8X20Pcb-wV"
      },
      "execution_count": null,
      "outputs": []
    },
    {
      "cell_type": "markdown",
      "source": [
        "##Question 3:- Calculate the sum of all numbers from 1 to a given number\n",
        "\n",
        "Expected Output:\n",
        "\n",
        "Enter number 10\n",
        "\n",
        "Sum is: 55"
      ],
      "metadata": {
        "id": "LoBM7eXcc8Bp"
      }
    },
    {
      "cell_type": "code",
      "source": [
        "total_number = int(input(\"Enter the number\"))\n",
        "sum = 0\n",
        "for i in range(1,total_number+1):\n",
        "  sum +=i\n",
        "print(f\"the total sum is : {sum}\")"
      ],
      "metadata": {
        "colab": {
          "base_uri": "https://localhost:8080/"
        },
        "id": "B4fhdVSAdF8H",
        "outputId": "eaeafdb6-1454-4e6b-b043-2e09b01d2937"
      },
      "execution_count": 19,
      "outputs": [
        {
          "output_type": "stream",
          "name": "stdout",
          "text": [
            "Enter the number10\n",
            "the total sum is : 55\n"
          ]
        }
      ]
    },
    {
      "cell_type": "markdown",
      "source": [
        "##Question 4:-Write a program to display only those numbers from a list that satisfy the following conditions\n",
        "\n",
        "The number must be divisible by five\n",
        "\n",
        "If the number is greater than 150, then skip it and move to the next number\n",
        "\n",
        "If the number is greater than 500, then stop the loop\n",
        "\n",
        "#given\n",
        "numbers = [12, 75, 150, 180, 145, 525, 50]\n",
        "\n",
        "\n"
      ],
      "metadata": {
        "id": "Aqc9WipBd1qm"
      }
    },
    {
      "cell_type": "code",
      "source": [
        "number = [12,75,150,180,145,525,50]\n",
        "\n",
        "for i in number:\n",
        "  if i <= 150 and i%5==0:\n",
        "    print(i)\n",
        "  elif i>=500:\n",
        "    break"
      ],
      "metadata": {
        "colab": {
          "base_uri": "https://localhost:8080/"
        },
        "id": "9O1zmXuadrS3",
        "outputId": "f80062e2-3ce0-4ae2-a75b-8f9fde4b60bc"
      },
      "execution_count": 20,
      "outputs": [
        {
          "output_type": "stream",
          "name": "stdout",
          "text": [
            "75\n",
            "150\n",
            "145\n"
          ]
        }
      ]
    },
    {
      "cell_type": "markdown",
      "source": [
        "##Question 5:-Print the given list in reverse order.\n",
        "\n",
        "list1 = [10, 20, 30, 40, 50]"
      ],
      "metadata": {
        "id": "pVweuXD6gfd0"
      }
    },
    {
      "cell_type": "code",
      "source": [
        "list1 = [10,20,30,40,50]\n",
        "print(f\"before the reverse {list1}\")\n",
        "list1 = list1[-1::-1]\n",
        "print(f\"after the reverse {list1}\")"
      ],
      "metadata": {
        "colab": {
          "base_uri": "https://localhost:8080/"
        },
        "id": "dAaYO52rgcTO",
        "outputId": "48c2d9c6-93cc-417b-903d-96288f987642"
      },
      "execution_count": 23,
      "outputs": [
        {
          "output_type": "stream",
          "name": "stdout",
          "text": [
            "before the reverse [10, 20, 30, 40, 50]\n",
            "after the reverse [50, 40, 30, 20, 10]\n"
          ]
        }
      ]
    },
    {
      "cell_type": "code",
      "source": [],
      "metadata": {
        "id": "xR46UUo7g4ni"
      },
      "execution_count": null,
      "outputs": []
    }
  ]
}